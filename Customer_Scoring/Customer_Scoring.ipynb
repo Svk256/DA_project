{
 "cells": [
  {
   "cell_type": "markdown",
   "metadata": {},
   "source": [
    "## Исследование надёжности заёмщиков\n",
    "\n",
    "Заказчик — кредитный отдел банка. Нужно разобраться, влияет ли семейное положение и количество детей клиента на факт погашения кредита в срок. Входные данные от банка — статистика о платёжеспособности клиентов.\n",
    "\n",
    "Результаты исследования будут учтены при построении модели **кредитного скоринга** — специальной системы, которая оценивает способность потенциального заёмщика вернуть кредит банку."
   ]
  },
  {
   "cell_type": "markdown",
   "metadata": {},
   "source": [
    "###  1. Загрузка данных. "
   ]
  },
  {
   "cell_type": "code",
   "execution_count": 1,
   "metadata": {},
   "outputs": [],
   "source": [
    "import pandas as pd\n",
    "from pymystem3 import Mystem"
   ]
  },
  {
   "cell_type": "code",
   "execution_count": 2,
   "metadata": {},
   "outputs": [
    {
     "name": "stdout",
     "output_type": "stream",
     "text": [
      "<class 'pandas.core.frame.DataFrame'>\n",
      "RangeIndex: 21525 entries, 0 to 21524\n",
      "Data columns (total 12 columns):\n",
      "children            21525 non-null int64\n",
      "days_employed       19351 non-null float64\n",
      "dob_years           21525 non-null int64\n",
      "education           21525 non-null object\n",
      "education_id        21525 non-null int64\n",
      "family_status       21525 non-null object\n",
      "family_status_id    21525 non-null int64\n",
      "gender              21525 non-null object\n",
      "income_type         21525 non-null object\n",
      "debt                21525 non-null int64\n",
      "total_income        19351 non-null float64\n",
      "purpose             21525 non-null object\n",
      "dtypes: float64(2), int64(5), object(5)\n",
      "memory usage: 2.0+ MB\n"
     ]
    }
   ],
   "source": [
    "data=pd.read_csv('data.csv')\n",
    "data.info()"
   ]
  },
  {
   "cell_type": "markdown",
   "metadata": {},
   "source": [
    "Есть пропуски в столбцах days_employed и total_income"
   ]
  },
  {
   "cell_type": "markdown",
   "metadata": {},
   "source": [
    "### 2. Предобработка данных"
   ]
  },
  {
   "cell_type": "markdown",
   "metadata": {},
   "source": [
    "### Обработка пропусков"
   ]
  },
  {
   "cell_type": "code",
   "execution_count": 3,
   "metadata": {
    "scrolled": true
   },
   "outputs": [],
   "source": [
    "#посмотрим, что это за пропуски в \n",
    "#print(data[(data['total_income'].isnull())&(data['total_income'].isnull())].head(5))\n",
    "#в обеих колонках пропуски выглядят как NaN. Заменяем их при помощи fillna() на медианные значения, \n",
    "#посчитанные по типу занятости\n",
    "#использую именно медиану, так как разброс между значениями довольно большой\n",
    "\n",
    "data.loc[data['income_type']=='пенсионер','days_employed']=data[data['income_type']=='пенсионер']['days_employed'].median()\n",
    "data.loc[data['income_type']=='сотрудник','days_employed']=data[data['income_type']=='сотрудник']['days_employed'].median()\n",
    "data.loc[data['income_type']=='предприниматель','days_employed']=data[data['income_type']=='предприниматель']['days_employed'].median()\n",
    "data.loc[data['income_type']=='компаньон','days_employed']=data[data['income_type']=='компаньон']['days_employed'].median()\n",
    "data.loc[data['income_type']=='студент','days_employed']=data[data['income_type']=='студент']['days_employed'].median()\n",
    "data.loc[data['income_type']=='госслужащий','days_employed']=data[data['income_type']=='госслужащий']['days_employed'].median()\n",
    "\n",
    "data.loc[data['income_type']=='пенсионер','total_income']=data[data['income_type']=='пенсионер']['total_income'].median()\n",
    "data.loc[data['income_type']=='сотрудник','total_income']=data[data['income_type']=='сотрудник']['total_income'].median()\n",
    "data.loc[data['income_type']=='предприниматель','total_income']=data[data['income_type']=='предприниматель']['total_income'].median()\n",
    "data.loc[data['income_type']=='компаньон','total_income']=data[data['income_type']=='компаньон']['total_income'].median()\n",
    "data.loc[data['income_type']=='студент','total_income']=data[data['income_type']=='студент']['total_income'].median()\n",
    "data.loc[data['income_type']=='госслужащий','total_income']=data[data['income_type']=='госслужащий']['total_income'].median()\n",
    "\n",
    "\n"
   ]
  },
  {
   "cell_type": "markdown",
   "metadata": {},
   "source": [
    "### Замена типа данных"
   ]
  },
  {
   "cell_type": "code",
   "execution_count": 4,
   "metadata": {},
   "outputs": [
    {
     "data": {
      "text/html": [
       "<div>\n",
       "<style scoped>\n",
       "    .dataframe tbody tr th:only-of-type {\n",
       "        vertical-align: middle;\n",
       "    }\n",
       "\n",
       "    .dataframe tbody tr th {\n",
       "        vertical-align: top;\n",
       "    }\n",
       "\n",
       "    .dataframe thead th {\n",
       "        text-align: right;\n",
       "    }\n",
       "</style>\n",
       "<table border=\"1\" class=\"dataframe\">\n",
       "  <thead>\n",
       "    <tr style=\"text-align: right;\">\n",
       "      <th></th>\n",
       "      <th>children</th>\n",
       "      <th>days_employed</th>\n",
       "      <th>dob_years</th>\n",
       "      <th>education</th>\n",
       "      <th>education_id</th>\n",
       "      <th>family_status</th>\n",
       "      <th>family_status_id</th>\n",
       "      <th>gender</th>\n",
       "      <th>income_type</th>\n",
       "      <th>debt</th>\n",
       "      <th>total_income</th>\n",
       "      <th>purpose</th>\n",
       "    </tr>\n",
       "  </thead>\n",
       "  <tbody>\n",
       "    <tr>\n",
       "      <td>0</td>\n",
       "      <td>1</td>\n",
       "      <td>-1574</td>\n",
       "      <td>42</td>\n",
       "      <td>высшее</td>\n",
       "      <td>0</td>\n",
       "      <td>женат / замужем</td>\n",
       "      <td>0</td>\n",
       "      <td>F</td>\n",
       "      <td>сотрудник</td>\n",
       "      <td>0</td>\n",
       "      <td>142594</td>\n",
       "      <td>покупка жилья</td>\n",
       "    </tr>\n",
       "    <tr>\n",
       "      <td>1</td>\n",
       "      <td>1</td>\n",
       "      <td>-1574</td>\n",
       "      <td>36</td>\n",
       "      <td>среднее</td>\n",
       "      <td>1</td>\n",
       "      <td>женат / замужем</td>\n",
       "      <td>0</td>\n",
       "      <td>F</td>\n",
       "      <td>сотрудник</td>\n",
       "      <td>0</td>\n",
       "      <td>142594</td>\n",
       "      <td>приобретение автомобиля</td>\n",
       "    </tr>\n",
       "    <tr>\n",
       "      <td>2</td>\n",
       "      <td>0</td>\n",
       "      <td>-1574</td>\n",
       "      <td>33</td>\n",
       "      <td>Среднее</td>\n",
       "      <td>1</td>\n",
       "      <td>женат / замужем</td>\n",
       "      <td>0</td>\n",
       "      <td>M</td>\n",
       "      <td>сотрудник</td>\n",
       "      <td>0</td>\n",
       "      <td>142594</td>\n",
       "      <td>покупка жилья</td>\n",
       "    </tr>\n",
       "    <tr>\n",
       "      <td>3</td>\n",
       "      <td>3</td>\n",
       "      <td>-1574</td>\n",
       "      <td>32</td>\n",
       "      <td>среднее</td>\n",
       "      <td>1</td>\n",
       "      <td>женат / замужем</td>\n",
       "      <td>0</td>\n",
       "      <td>M</td>\n",
       "      <td>сотрудник</td>\n",
       "      <td>0</td>\n",
       "      <td>142594</td>\n",
       "      <td>дополнительное образование</td>\n",
       "    </tr>\n",
       "    <tr>\n",
       "      <td>4</td>\n",
       "      <td>0</td>\n",
       "      <td>365213</td>\n",
       "      <td>53</td>\n",
       "      <td>среднее</td>\n",
       "      <td>1</td>\n",
       "      <td>гражданский брак</td>\n",
       "      <td>1</td>\n",
       "      <td>F</td>\n",
       "      <td>пенсионер</td>\n",
       "      <td>0</td>\n",
       "      <td>118514</td>\n",
       "      <td>сыграть свадьбу</td>\n",
       "    </tr>\n",
       "  </tbody>\n",
       "</table>\n",
       "</div>"
      ],
      "text/plain": [
       "   children  days_employed  dob_years education  education_id  \\\n",
       "0         1          -1574         42    высшее             0   \n",
       "1         1          -1574         36   среднее             1   \n",
       "2         0          -1574         33   Среднее             1   \n",
       "3         3          -1574         32   среднее             1   \n",
       "4         0         365213         53   среднее             1   \n",
       "\n",
       "      family_status  family_status_id gender income_type  debt  total_income  \\\n",
       "0   женат / замужем                 0      F   сотрудник     0        142594   \n",
       "1   женат / замужем                 0      F   сотрудник     0        142594   \n",
       "2   женат / замужем                 0      M   сотрудник     0        142594   \n",
       "3   женат / замужем                 0      M   сотрудник     0        142594   \n",
       "4  гражданский брак                 1      F   пенсионер     0        118514   \n",
       "\n",
       "                      purpose  \n",
       "0               покупка жилья  \n",
       "1     приобретение автомобиля  \n",
       "2               покупка жилья  \n",
       "3  дополнительное образование  \n",
       "4             сыграть свадьбу  "
      ]
     },
     "execution_count": 4,
     "metadata": {},
     "output_type": "execute_result"
    }
   ],
   "source": [
    "#так как количество дней занятости в виде float выглядит странно, заменяем его на целочисленное. \n",
    "#Сумму дохода для анализа качества заемщика так же можно перевести в целочисленное, так как копейки в данном контексте несущественны\n",
    "data['days_employed']=data['days_employed'].astype('int')\n",
    "data['total_income']=data['total_income'].astype('int')\n",
    "data.head(5)"
   ]
  },
  {
   "cell_type": "markdown",
   "metadata": {},
   "source": [
    "### Обработка дубликатов"
   ]
  },
  {
   "cell_type": "code",
   "execution_count": 5,
   "metadata": {},
   "outputs": [
    {
     "name": "stdout",
     "output_type": "stream",
     "text": [
      "['высшее' 'среднее' 'Среднее' 'СРЕДНЕЕ' 'ВЫСШЕЕ' 'неоконченное высшее'\n",
      " 'начальное' 'Высшее' 'НЕОКОНЧЕННОЕ ВЫСШЕЕ' 'Неоконченное высшее'\n",
      " 'НАЧАЛЬНОЕ' 'Начальное' 'Ученая степень' 'УЧЕНАЯ СТЕПЕНЬ'\n",
      " 'ученая степень']\n",
      "['женат / замужем' 'гражданский брак' 'вдовец / вдова' 'в разводе'\n",
      " 'Не женат / не замужем']\n",
      "['покупка жилья' 'приобретение автомобиля' 'дополнительное образование'\n",
      " 'сыграть свадьбу' 'операции с жильем' 'образование'\n",
      " 'на проведение свадьбы' 'покупка жилья для семьи' 'покупка недвижимости'\n",
      " 'покупка коммерческой недвижимости' 'покупка жилой недвижимости'\n",
      " 'строительство собственной недвижимости' 'недвижимость'\n",
      " 'строительство недвижимости' 'на покупку подержанного автомобиля'\n",
      " 'на покупку своего автомобиля' 'операции с коммерческой недвижимостью'\n",
      " 'строительство жилой недвижимости' 'жилье'\n",
      " 'операции со своей недвижимостью' 'автомобили' 'заняться образованием'\n",
      " 'сделка с подержанным автомобилем' 'получение образования' 'автомобиль'\n",
      " 'свадьба' 'получение дополнительного образования' 'покупка своего жилья'\n",
      " 'операции с недвижимостью' 'получение высшего образования'\n",
      " 'свой автомобиль' 'сделка с автомобилем' 'профильное образование'\n",
      " 'высшее образование' 'покупка жилья для сдачи' 'на покупку автомобиля'\n",
      " 'ремонт жилью' 'заняться высшим образованием']\n",
      "<class 'pandas.core.frame.DataFrame'>\n",
      "RangeIndex: 17883 entries, 0 to 17882\n",
      "Data columns (total 12 columns):\n",
      "children            17883 non-null int64\n",
      "days_employed       17883 non-null int64\n",
      "dob_years           17883 non-null int64\n",
      "education           17883 non-null object\n",
      "education_id        17883 non-null int64\n",
      "family_status       17883 non-null object\n",
      "family_status_id    17883 non-null int64\n",
      "gender              17883 non-null object\n",
      "income_type         17883 non-null object\n",
      "debt                17883 non-null int64\n",
      "total_income        17883 non-null int64\n",
      "purpose             17883 non-null object\n",
      "dtypes: int64(7), object(5)\n",
      "memory usage: 1.6+ MB\n",
      "None\n"
     ]
    }
   ],
   "source": [
    "#проанализируем содержимое столбцов, содержащих предположительно однотипные значения\n",
    "print (data['education'].unique())\n",
    "print (data['family_status'].unique())\n",
    "print (data['purpose'].unique())\n",
    "#в столбце \"education\" явно можно привести все к одному виду, прежде, чем удалять дубликаты\n",
    "data['education']=data['education'].str.lower()\n",
    "#print (data['education'].unique())\n",
    "#удалить дубликаты\n",
    "data=data.drop_duplicates().reset_index(drop= True)\n",
    "#посчитать количество строк, которые остались после удаления дубликатов.\n",
    "print(data.info())\n",
    "\n",
    "\n"
   ]
  },
  {
   "cell_type": "markdown",
   "metadata": {},
   "source": [
    "### Лемматизация"
   ]
  },
  {
   "cell_type": "code",
   "execution_count": 6,
   "metadata": {},
   "outputs": [
    {
     "name": "stdout",
     "output_type": "stream",
     "text": [
      "['покупка', ' ', 'жилье', '\\n']\n",
      "['приобретение', ' ', 'автомобиль', '\\n']\n",
      "['дополнительный', ' ', 'образование', '\\n']\n",
      "['сыграть', ' ', 'свадьба', '\\n']\n",
      "['операция', ' ', 'с', ' ', 'жилье', '\\n']\n",
      "['образование', '\\n']\n",
      "['на', ' ', 'проведение', ' ', 'свадьба', '\\n']\n",
      "['покупка', ' ', 'жилье', ' ', 'для', ' ', 'семья', '\\n']\n",
      "['покупка', ' ', 'недвижимость', '\\n']\n",
      "['покупка', ' ', 'коммерческий', ' ', 'недвижимость', '\\n']\n",
      "['покупка', ' ', 'жилой', ' ', 'недвижимость', '\\n']\n",
      "['строительство', ' ', 'собственный', ' ', 'недвижимость', '\\n']\n",
      "['недвижимость', '\\n']\n",
      "['строительство', ' ', 'недвижимость', '\\n']\n",
      "['на', ' ', 'покупка', ' ', 'подержать', ' ', 'автомобиль', '\\n']\n",
      "['на', ' ', 'покупка', ' ', 'свой', ' ', 'автомобиль', '\\n']\n",
      "['операция', ' ', 'с', ' ', 'коммерческий', ' ', 'недвижимость', '\\n']\n",
      "['строительство', ' ', 'жилой', ' ', 'недвижимость', '\\n']\n",
      "['жилье', '\\n']\n",
      "['операция', ' ', 'со', ' ', 'свой', ' ', 'недвижимость', '\\n']\n",
      "['автомобиль', '\\n']\n",
      "['заниматься', ' ', 'образование', '\\n']\n",
      "['сделка', ' ', 'с', ' ', 'подержанный', ' ', 'автомобиль', '\\n']\n",
      "['получение', ' ', 'образование', '\\n']\n",
      "['автомобиль', '\\n']\n",
      "['свадьба', '\\n']\n",
      "['получение', ' ', 'дополнительный', ' ', 'образование', '\\n']\n",
      "['покупка', ' ', 'свой', ' ', 'жилье', '\\n']\n",
      "['операция', ' ', 'с', ' ', 'недвижимость', '\\n']\n",
      "['получение', ' ', 'высокий', ' ', 'образование', '\\n']\n",
      "['свой', ' ', 'автомобиль', '\\n']\n",
      "['сделка', ' ', 'с', ' ', 'автомобиль', '\\n']\n",
      "['профильный', ' ', 'образование', '\\n']\n",
      "['высокий', ' ', 'образование', '\\n']\n",
      "['покупка', ' ', 'жилье', ' ', 'для', ' ', 'сдача', '\\n']\n",
      "['на', ' ', 'покупка', ' ', 'автомобиль', '\\n']\n",
      "['ремонт', ' ', 'жилье', '\\n']\n",
      "['заниматься', ' ', 'высокий', ' ', 'образование', '\\n']\n"
     ]
    }
   ],
   "source": [
    "strpurpose=data['purpose'].unique()\n",
    "m = Mystem()\n",
    "\n",
    "for purpose in strpurpose:\n",
    "    lemmas = m.lemmatize(purpose)\n",
    "    #lemmas = ' '.join(m.lemmatize(purpose))\n",
    "    print (lemmas)\n",
    "\n",
    "#print (data.head(10))\n"
   ]
  },
  {
   "cell_type": "markdown",
   "metadata": {},
   "source": [
    "### Категоризация данных"
   ]
  },
  {
   "cell_type": "code",
   "execution_count": 7,
   "metadata": {},
   "outputs": [
    {
     "data": {
      "text/html": [
       "<div>\n",
       "<style scoped>\n",
       "    .dataframe tbody tr th:only-of-type {\n",
       "        vertical-align: middle;\n",
       "    }\n",
       "\n",
       "    .dataframe tbody tr th {\n",
       "        vertical-align: top;\n",
       "    }\n",
       "\n",
       "    .dataframe thead th {\n",
       "        text-align: right;\n",
       "    }\n",
       "</style>\n",
       "<table border=\"1\" class=\"dataframe\">\n",
       "  <thead>\n",
       "    <tr style=\"text-align: right;\">\n",
       "      <th></th>\n",
       "      <th>children</th>\n",
       "      <th>days_employed</th>\n",
       "      <th>dob_years</th>\n",
       "      <th>education</th>\n",
       "      <th>education_id</th>\n",
       "      <th>family_status</th>\n",
       "      <th>family_status_id</th>\n",
       "      <th>gender</th>\n",
       "      <th>income_type</th>\n",
       "      <th>debt</th>\n",
       "      <th>total_income</th>\n",
       "      <th>purpose</th>\n",
       "      <th>age_type</th>\n",
       "      <th>incomesum_type</th>\n",
       "      <th>child_type</th>\n",
       "    </tr>\n",
       "  </thead>\n",
       "  <tbody>\n",
       "    <tr>\n",
       "      <td>0</td>\n",
       "      <td>1</td>\n",
       "      <td>-1574</td>\n",
       "      <td>42</td>\n",
       "      <td>высшее</td>\n",
       "      <td>0</td>\n",
       "      <td>женат / замужем</td>\n",
       "      <td>0</td>\n",
       "      <td>F</td>\n",
       "      <td>сотрудник</td>\n",
       "      <td>0</td>\n",
       "      <td>142594</td>\n",
       "      <td>покупка жилья</td>\n",
       "      <td>от 25 до 45</td>\n",
       "      <td>от 100 до 150 тысяч</td>\n",
       "      <td>1</td>\n",
       "    </tr>\n",
       "    <tr>\n",
       "      <td>1</td>\n",
       "      <td>1</td>\n",
       "      <td>-1574</td>\n",
       "      <td>36</td>\n",
       "      <td>среднее</td>\n",
       "      <td>1</td>\n",
       "      <td>женат / замужем</td>\n",
       "      <td>0</td>\n",
       "      <td>F</td>\n",
       "      <td>сотрудник</td>\n",
       "      <td>0</td>\n",
       "      <td>142594</td>\n",
       "      <td>приобретение автомобиля</td>\n",
       "      <td>от 25 до 45</td>\n",
       "      <td>от 100 до 150 тысяч</td>\n",
       "      <td>1</td>\n",
       "    </tr>\n",
       "    <tr>\n",
       "      <td>2</td>\n",
       "      <td>0</td>\n",
       "      <td>-1574</td>\n",
       "      <td>33</td>\n",
       "      <td>среднее</td>\n",
       "      <td>1</td>\n",
       "      <td>женат / замужем</td>\n",
       "      <td>0</td>\n",
       "      <td>M</td>\n",
       "      <td>сотрудник</td>\n",
       "      <td>0</td>\n",
       "      <td>142594</td>\n",
       "      <td>покупка жилья</td>\n",
       "      <td>от 25 до 45</td>\n",
       "      <td>от 100 до 150 тысяч</td>\n",
       "      <td>0</td>\n",
       "    </tr>\n",
       "    <tr>\n",
       "      <td>3</td>\n",
       "      <td>3</td>\n",
       "      <td>-1574</td>\n",
       "      <td>32</td>\n",
       "      <td>среднее</td>\n",
       "      <td>1</td>\n",
       "      <td>женат / замужем</td>\n",
       "      <td>0</td>\n",
       "      <td>M</td>\n",
       "      <td>сотрудник</td>\n",
       "      <td>0</td>\n",
       "      <td>142594</td>\n",
       "      <td>дополнительное образование</td>\n",
       "      <td>от 25 до 45</td>\n",
       "      <td>от 100 до 150 тысяч</td>\n",
       "      <td>1</td>\n",
       "    </tr>\n",
       "    <tr>\n",
       "      <td>4</td>\n",
       "      <td>0</td>\n",
       "      <td>365213</td>\n",
       "      <td>53</td>\n",
       "      <td>среднее</td>\n",
       "      <td>1</td>\n",
       "      <td>гражданский брак</td>\n",
       "      <td>1</td>\n",
       "      <td>F</td>\n",
       "      <td>пенсионер</td>\n",
       "      <td>0</td>\n",
       "      <td>118514</td>\n",
       "      <td>сыграть свадьбу</td>\n",
       "      <td>от 45 до 65</td>\n",
       "      <td>от 100 до 150 тысяч</td>\n",
       "      <td>0</td>\n",
       "    </tr>\n",
       "  </tbody>\n",
       "</table>\n",
       "</div>"
      ],
      "text/plain": [
       "   children  days_employed  dob_years education  education_id  \\\n",
       "0         1          -1574         42    высшее             0   \n",
       "1         1          -1574         36   среднее             1   \n",
       "2         0          -1574         33   среднее             1   \n",
       "3         3          -1574         32   среднее             1   \n",
       "4         0         365213         53   среднее             1   \n",
       "\n",
       "      family_status  family_status_id gender income_type  debt  total_income  \\\n",
       "0   женат / замужем                 0      F   сотрудник     0        142594   \n",
       "1   женат / замужем                 0      F   сотрудник     0        142594   \n",
       "2   женат / замужем                 0      M   сотрудник     0        142594   \n",
       "3   женат / замужем                 0      M   сотрудник     0        142594   \n",
       "4  гражданский брак                 1      F   пенсионер     0        118514   \n",
       "\n",
       "                      purpose     age_type       incomesum_type  child_type  \n",
       "0               покупка жилья  от 25 до 45  от 100 до 150 тысяч           1  \n",
       "1     приобретение автомобиля  от 25 до 45  от 100 до 150 тысяч           1  \n",
       "2               покупка жилья  от 25 до 45  от 100 до 150 тысяч           0  \n",
       "3  дополнительное образование  от 25 до 45  от 100 до 150 тысяч           1  \n",
       "4             сыграть свадьбу  от 45 до 65  от 100 до 150 тысяч           0  "
      ]
     },
     "execution_count": 7,
     "metadata": {},
     "output_type": "execute_result"
    }
   ],
   "source": [
    "#проводим категоризацию возраста\n",
    "def agetype (age):\n",
    "    if age<=24:\n",
    "        return 'моложе 24'\n",
    "    elif ((age>24) & (age <=45)):\n",
    "        return 'от 25 до 45'\n",
    "    elif ((age>45) & (age <=65)): \n",
    "        return 'от 45 до 65'\n",
    "    else:\n",
    "        return 'старше 65'\n",
    "\n",
    "data['age_type']=data['dob_years'].apply(agetype)\n",
    "\n",
    "\n",
    "#проводим категоризацию доходов\n",
    "def incomesumtype (incomesum):\n",
    "    if incomesum==0:\n",
    "         return 'нет данных о доходе или доход отсутствует'\n",
    "    if incomesum<50000:\n",
    "        return 'менее 50 тысяч'\n",
    "    elif ((incomesum>=50000) & (incomesum <100000)):\n",
    "        return 'от 50 до 100 тысяч'\n",
    "    elif ((incomesum>=100000) & (incomesum <150000)):\n",
    "        return 'от 100 до 150 тысяч'\n",
    "    elif ((incomesum>=150000) & (incomesum <200000)): \n",
    "        return 'от 150 до 200 тысяч'\n",
    "    else:\n",
    "        return 'более 200 тысяч'\n",
    "\n",
    "data['incomesum_type']=data['total_income'].apply(incomesumtype)\n",
    "  \n",
    "#проводим категоризацию по признаку наличия детей\n",
    "def havechild (child):\n",
    "    if child<=0:\n",
    "        return 0\n",
    "    else:\n",
    "        return 1\n",
    "\n",
    "data['child_type']=data['children'].apply(havechild)\n",
    "\n",
    "\n",
    "data.head(5)\n",
    "    \n",
    "\n",
    "\n",
    "\n"
   ]
  },
  {
   "cell_type": "code",
   "execution_count": 8,
   "metadata": {},
   "outputs": [
    {
     "name": "stdout",
     "output_type": "stream",
     "text": [
      "['покупка недвижимость' 'покупка автомобиль' 'образование' 'свадьба'\n",
      " 'ремонт жилья']\n"
     ]
    }
   ],
   "source": [
    "#проводим категоризацию причин обращения за кредитом:\n",
    "strpurpose=data['purpose'].unique()\n",
    "\n",
    "m = Mystem()\n",
    "\n",
    "def strlemma (purpose):\n",
    "    lemmas = m.lemmatize(purpose)\n",
    "   \n",
    "    #if ('приобретение' in lemmas) & ('жилье' in lemmas):\n",
    "    #    return 'покупка жилой недвижимости'\n",
    "    if  ('автомобиль' in lemmas):\n",
    "        return 'покупка автомобиль'\n",
    "    if ('образование' in lemmas) :\n",
    "        return 'образование'\n",
    "    if ('свадьба' in lemmas) :\n",
    "        return 'свадьба'\n",
    "    if ('жилье' in lemmas) & ('ремонт' in lemmas) :\n",
    "        return 'ремонт жилья'\n",
    "    elif ('жилье' in lemmas):\n",
    "        return 'покупка недвижимость'\n",
    "    if ('недвижимость' in lemmas):\n",
    "        return 'покупка недвижимость'\n",
    "#    else:\n",
    "#        return ' '.join(m.lemmatize(purpose))\n",
    "    \n",
    "\n",
    "data['purpose_type']=data['purpose'].apply(strlemma)\n",
    "print (data['purpose_type'].unique())\n"
   ]
  },
  {
   "cell_type": "markdown",
   "metadata": {},
   "source": [
    "### 3. Выявление зависимостей"
   ]
  },
  {
   "cell_type": "markdown",
   "metadata": {},
   "source": [
    "**? Есть ли зависимость между наличием детей и возвратом кредита в срок?**"
   ]
  },
  {
   "cell_type": "code",
   "execution_count": 9,
   "metadata": {},
   "outputs": [
    {
     "data": {
      "text/plain": [
       "count    17883.000000\n",
       "mean         0.095174\n",
       "Name: debt, dtype: float64"
      ]
     },
     "execution_count": 9,
     "metadata": {},
     "output_type": "execute_result"
    }
   ],
   "source": [
    "#общее количество просрочек по выборке\n",
    "data['debt'].agg(['count','mean'])"
   ]
  },
  {
   "cell_type": "code",
   "execution_count": 10,
   "metadata": {},
   "outputs": [
    {
     "data": {
      "text/html": [
       "<div>\n",
       "<style scoped>\n",
       "    .dataframe tbody tr th:only-of-type {\n",
       "        vertical-align: middle;\n",
       "    }\n",
       "\n",
       "    .dataframe tbody tr th {\n",
       "        vertical-align: top;\n",
       "    }\n",
       "\n",
       "    .dataframe thead th {\n",
       "        text-align: right;\n",
       "    }\n",
       "</style>\n",
       "<table border=\"1\" class=\"dataframe\">\n",
       "  <thead>\n",
       "    <tr style=\"text-align: right;\">\n",
       "      <th></th>\n",
       "      <th>count</th>\n",
       "      <th>mean</th>\n",
       "    </tr>\n",
       "    <tr>\n",
       "      <th>child_type</th>\n",
       "      <th></th>\n",
       "      <th></th>\n",
       "    </tr>\n",
       "  </thead>\n",
       "  <tbody>\n",
       "    <tr>\n",
       "      <td>0</td>\n",
       "      <td>11303</td>\n",
       "      <td>0.092011</td>\n",
       "    </tr>\n",
       "    <tr>\n",
       "      <td>1</td>\n",
       "      <td>6580</td>\n",
       "      <td>0.100608</td>\n",
       "    </tr>\n",
       "  </tbody>\n",
       "</table>\n",
       "</div>"
      ],
      "text/plain": [
       "            count      mean\n",
       "child_type                 \n",
       "0           11303  0.092011\n",
       "1            6580  0.100608"
      ]
     },
     "execution_count": 10,
     "metadata": {},
     "output_type": "execute_result"
    }
   ],
   "source": [
    "#смотрим доли просрочек по группам заемщиков с детьми и без детей в целом\n",
    "data.groupby('child_type')['debt'].agg(['count','mean'])\n",
    "\n"
   ]
  },
  {
   "cell_type": "code",
   "execution_count": 11,
   "metadata": {},
   "outputs": [
    {
     "data": {
      "text/html": [
       "<div>\n",
       "<style scoped>\n",
       "    .dataframe tbody tr th:only-of-type {\n",
       "        vertical-align: middle;\n",
       "    }\n",
       "\n",
       "    .dataframe tbody tr th {\n",
       "        vertical-align: top;\n",
       "    }\n",
       "\n",
       "    .dataframe thead th {\n",
       "        text-align: right;\n",
       "    }\n",
       "</style>\n",
       "<table border=\"1\" class=\"dataframe\">\n",
       "  <thead>\n",
       "    <tr style=\"text-align: right;\">\n",
       "      <th></th>\n",
       "      <th>count</th>\n",
       "      <th>mean</th>\n",
       "    </tr>\n",
       "    <tr>\n",
       "      <th>children</th>\n",
       "      <th></th>\n",
       "      <th></th>\n",
       "    </tr>\n",
       "  </thead>\n",
       "  <tbody>\n",
       "    <tr>\n",
       "      <td>-1</td>\n",
       "      <td>47</td>\n",
       "      <td>0.021277</td>\n",
       "    </tr>\n",
       "    <tr>\n",
       "      <td>0</td>\n",
       "      <td>11256</td>\n",
       "      <td>0.092306</td>\n",
       "    </tr>\n",
       "    <tr>\n",
       "      <td>1</td>\n",
       "      <td>4290</td>\n",
       "      <td>0.100932</td>\n",
       "    </tr>\n",
       "    <tr>\n",
       "      <td>2</td>\n",
       "      <td>1841</td>\n",
       "      <td>0.103205</td>\n",
       "    </tr>\n",
       "    <tr>\n",
       "      <td>3</td>\n",
       "      <td>324</td>\n",
       "      <td>0.083333</td>\n",
       "    </tr>\n",
       "    <tr>\n",
       "      <td>4</td>\n",
       "      <td>40</td>\n",
       "      <td>0.100000</td>\n",
       "    </tr>\n",
       "    <tr>\n",
       "      <td>5</td>\n",
       "      <td>9</td>\n",
       "      <td>0.000000</td>\n",
       "    </tr>\n",
       "    <tr>\n",
       "      <td>20</td>\n",
       "      <td>76</td>\n",
       "      <td>0.105263</td>\n",
       "    </tr>\n",
       "  </tbody>\n",
       "</table>\n",
       "</div>"
      ],
      "text/plain": [
       "          count      mean\n",
       "children                 \n",
       "-1           47  0.021277\n",
       " 0        11256  0.092306\n",
       " 1         4290  0.100932\n",
       " 2         1841  0.103205\n",
       " 3          324  0.083333\n",
       " 4           40  0.100000\n",
       " 5            9  0.000000\n",
       " 20          76  0.105263"
      ]
     },
     "execution_count": 11,
     "metadata": {},
     "output_type": "execute_result"
    }
   ],
   "source": [
    "#смотрим доли просрочек по группам заемщиков без детей и с разным количеством детей\n",
    "data.groupby('children')['debt'].agg(['count','mean'])"
   ]
  },
  {
   "cell_type": "markdown",
   "metadata": {},
   "source": [
    "Промежуточный вывод: Вероятность просрочки выше у замещиков с детьми, но незначительно"
   ]
  },
  {
   "cell_type": "markdown",
   "metadata": {},
   "source": [
    "**? Есть ли зависимость между семейным положением и возвратом кредита в срок?**"
   ]
  },
  {
   "cell_type": "code",
   "execution_count": 12,
   "metadata": {},
   "outputs": [
    {
     "data": {
      "text/html": [
       "<div>\n",
       "<style scoped>\n",
       "    .dataframe tbody tr th:only-of-type {\n",
       "        vertical-align: middle;\n",
       "    }\n",
       "\n",
       "    .dataframe tbody tr th {\n",
       "        vertical-align: top;\n",
       "    }\n",
       "\n",
       "    .dataframe thead th {\n",
       "        text-align: right;\n",
       "    }\n",
       "</style>\n",
       "<table border=\"1\" class=\"dataframe\">\n",
       "  <thead>\n",
       "    <tr style=\"text-align: right;\">\n",
       "      <th></th>\n",
       "      <th>count</th>\n",
       "      <th>mean</th>\n",
       "    </tr>\n",
       "    <tr>\n",
       "      <th>family_status</th>\n",
       "      <th></th>\n",
       "      <th></th>\n",
       "    </tr>\n",
       "  </thead>\n",
       "  <tbody>\n",
       "    <tr>\n",
       "      <td>гражданский брак</td>\n",
       "      <td>3333</td>\n",
       "      <td>0.113411</td>\n",
       "    </tr>\n",
       "    <tr>\n",
       "      <td>Не женат / не замужем</td>\n",
       "      <td>2637</td>\n",
       "      <td>0.101251</td>\n",
       "    </tr>\n",
       "    <tr>\n",
       "      <td>женат / замужем</td>\n",
       "      <td>9916</td>\n",
       "      <td>0.091670</td>\n",
       "    </tr>\n",
       "    <tr>\n",
       "      <td>вдовец / вдова</td>\n",
       "      <td>845</td>\n",
       "      <td>0.074556</td>\n",
       "    </tr>\n",
       "    <tr>\n",
       "      <td>в разводе</td>\n",
       "      <td>1152</td>\n",
       "      <td>0.073785</td>\n",
       "    </tr>\n",
       "  </tbody>\n",
       "</table>\n",
       "</div>"
      ],
      "text/plain": [
       "                       count      mean\n",
       "family_status                         \n",
       "гражданский брак        3333  0.113411\n",
       "Не женат / не замужем   2637  0.101251\n",
       "женат / замужем         9916  0.091670\n",
       "вдовец / вдова           845  0.074556\n",
       "в разводе               1152  0.073785"
      ]
     },
     "execution_count": 12,
     "metadata": {},
     "output_type": "execute_result"
    }
   ],
   "source": [
    "data.groupby('family_status')['debt'].agg(['count','mean']).sort_values(by='mean',ascending = False)\n"
   ]
  },
  {
   "cell_type": "markdown",
   "metadata": {},
   "source": [
    "Промежуточный вывод: Вероятность просрочки выше у заемщиков в гражданском браке"
   ]
  },
  {
   "cell_type": "markdown",
   "metadata": {},
   "source": [
    "**? Есть ли зависимость между уровнем дохода и возвратом кредита в срок?**"
   ]
  },
  {
   "cell_type": "code",
   "execution_count": 13,
   "metadata": {},
   "outputs": [
    {
     "data": {
      "text/html": [
       "<div>\n",
       "<style scoped>\n",
       "    .dataframe tbody tr th:only-of-type {\n",
       "        vertical-align: middle;\n",
       "    }\n",
       "\n",
       "    .dataframe tbody tr th {\n",
       "        vertical-align: top;\n",
       "    }\n",
       "\n",
       "    .dataframe thead th {\n",
       "        text-align: right;\n",
       "    }\n",
       "</style>\n",
       "<table border=\"1\" class=\"dataframe\">\n",
       "  <thead>\n",
       "    <tr style=\"text-align: right;\">\n",
       "      <th></th>\n",
       "      <th>count</th>\n",
       "      <th>mean</th>\n",
       "    </tr>\n",
       "    <tr>\n",
       "      <th>incomesum_type</th>\n",
       "      <th></th>\n",
       "      <th></th>\n",
       "    </tr>\n",
       "  </thead>\n",
       "  <tbody>\n",
       "    <tr>\n",
       "      <td>от 50 до 100 тысяч</td>\n",
       "      <td>3</td>\n",
       "      <td>0.666667</td>\n",
       "    </tr>\n",
       "    <tr>\n",
       "      <td>от 100 до 150 тысяч</td>\n",
       "      <td>11850</td>\n",
       "      <td>0.104726</td>\n",
       "    </tr>\n",
       "    <tr>\n",
       "      <td>от 150 до 200 тысяч</td>\n",
       "      <td>6027</td>\n",
       "      <td>0.076157</td>\n",
       "    </tr>\n",
       "    <tr>\n",
       "      <td>более 200 тысяч</td>\n",
       "      <td>3</td>\n",
       "      <td>0.000000</td>\n",
       "    </tr>\n",
       "  </tbody>\n",
       "</table>\n",
       "</div>"
      ],
      "text/plain": [
       "                     count      mean\n",
       "incomesum_type                      \n",
       "от 50 до 100 тысяч       3  0.666667\n",
       "от 100 до 150 тысяч  11850  0.104726\n",
       "от 150 до 200 тысяч   6027  0.076157\n",
       "более 200 тысяч          3  0.000000"
      ]
     },
     "execution_count": 13,
     "metadata": {},
     "output_type": "execute_result"
    }
   ],
   "source": [
    "data.groupby('incomesum_type')['debt'].agg(['count','mean']).sort_values(by='mean',ascending = False)\n"
   ]
  },
  {
   "cell_type": "markdown",
   "metadata": {},
   "source": [
    "Промежуточный вывод: Вероятность просрочки выше у заемщиков с доходом от 100 до 150 тысяч. Заемщиков с доходом от 50 до 100 тысяч слишком мало, наверное они все-таки не таки рискованные или нужна большая выборка, чтобы сделать по ним вывод"
   ]
  },
  {
   "cell_type": "markdown",
   "metadata": {},
   "source": [
    "**? Как разные цели кредита влияют на его возврат в срок?**"
   ]
  },
  {
   "cell_type": "code",
   "execution_count": 14,
   "metadata": {},
   "outputs": [
    {
     "data": {
      "text/html": [
       "<div>\n",
       "<style scoped>\n",
       "    .dataframe tbody tr th:only-of-type {\n",
       "        vertical-align: middle;\n",
       "    }\n",
       "\n",
       "    .dataframe tbody tr th {\n",
       "        vertical-align: top;\n",
       "    }\n",
       "\n",
       "    .dataframe thead th {\n",
       "        text-align: right;\n",
       "    }\n",
       "</style>\n",
       "<table border=\"1\" class=\"dataframe\">\n",
       "  <thead>\n",
       "    <tr style=\"text-align: right;\">\n",
       "      <th></th>\n",
       "      <th>count</th>\n",
       "      <th>mean</th>\n",
       "    </tr>\n",
       "    <tr>\n",
       "      <th>purpose_type</th>\n",
       "      <th></th>\n",
       "      <th></th>\n",
       "    </tr>\n",
       "  </thead>\n",
       "  <tbody>\n",
       "    <tr>\n",
       "      <td>свадьба</td>\n",
       "      <td>1563</td>\n",
       "      <td>0.113244</td>\n",
       "    </tr>\n",
       "    <tr>\n",
       "      <td>покупка автомобиль</td>\n",
       "      <td>3730</td>\n",
       "      <td>0.106434</td>\n",
       "    </tr>\n",
       "    <tr>\n",
       "      <td>образование</td>\n",
       "      <td>3546</td>\n",
       "      <td>0.103215</td>\n",
       "    </tr>\n",
       "    <tr>\n",
       "      <td>покупка недвижимость</td>\n",
       "      <td>8523</td>\n",
       "      <td>0.085416</td>\n",
       "    </tr>\n",
       "    <tr>\n",
       "      <td>ремонт жилья</td>\n",
       "      <td>521</td>\n",
       "      <td>0.065259</td>\n",
       "    </tr>\n",
       "  </tbody>\n",
       "</table>\n",
       "</div>"
      ],
      "text/plain": [
       "                      count      mean\n",
       "purpose_type                         \n",
       "свадьба                1563  0.113244\n",
       "покупка автомобиль     3730  0.106434\n",
       "образование            3546  0.103215\n",
       "покупка недвижимость   8523  0.085416\n",
       "ремонт жилья            521  0.065259"
      ]
     },
     "execution_count": 14,
     "metadata": {},
     "output_type": "execute_result"
    }
   ],
   "source": [
    "data.groupby('purpose_type')['debt'].agg(['count','mean']).sort_values(by='mean',ascending = False)\n"
   ]
  },
  {
   "cell_type": "markdown",
   "metadata": {},
   "source": [
    "Промежуточный вывод: Вероятность просрочки выше у тех, кто берет кредит на свадьбу\n",
    "\n"
   ]
  },
  {
   "cell_type": "markdown",
   "metadata": {},
   "source": [
    "### 4. Общий вывод"
   ]
  },
  {
   "cell_type": "markdown",
   "metadata": {},
   "source": [
    "\n",
    " В ходе работы анализировалась таблица с данными по заемщикам\n",
    "Собранные данные неплохого качества, но вызвают вопросы ошибки в данных типа отрицательные значения в колонке \"дети\", отсутствующие уровни доходов и трудового стажа, которые мы заменили средними значениями\n",
    "    \n",
    "В целом по представленной выборке общая просрочка находится на неплохом уровне. Порядка 9,5%\n",
    "\n",
    "**Цели кредитов**:\n",
    "- образование\n",
    "- свадьба\n",
    "- покупка жилья\n",
    "- ремонт жилья\n",
    "- покупка автомобиля\n",
    "  \n",
    "Заемщики разных возрастов и уровня дохода, есть пенсионеры\n",
    "\n",
    "    \n",
    "**Наиболее рискованной группой замещиков явлются замщики не состоящие в официальном браке, берущие кредит на свадьбу* \n",
    "\n",
    "\n",
    "\n"
   ]
  },
  {
   "cell_type": "code",
   "execution_count": null,
   "metadata": {},
   "outputs": [],
   "source": []
  }
 ],
 "metadata": {
  "kernelspec": {
   "display_name": "Python 3",
   "language": "python",
   "name": "python3"
  },
  "language_info": {
   "codemirror_mode": {
    "name": "ipython",
    "version": 3
   },
   "file_extension": ".py",
   "mimetype": "text/x-python",
   "name": "python",
   "nbconvert_exporter": "python",
   "pygments_lexer": "ipython3",
   "version": "3.8.3"
  }
 },
 "nbformat": 4,
 "nbformat_minor": 2
}
